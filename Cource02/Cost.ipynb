{
 "cells": [
  {
   "cell_type": "markdown",
   "metadata": {},
   "source": [
    "# Uniform Cost Search"
   ]
  },
  {
   "cell_type": "markdown",
   "metadata": {},
   "source": [
    "In this exercise you'll implement extend breadth-first search by incorporating a cost for each action."
   ]
  },
  {
   "cell_type": "code",
   "execution_count": 1,
   "metadata": {},
   "outputs": [],
   "source": [
    "import numpy as np\n",
    "from enum import Enum\n",
    "from queue import Queue"
   ]
  },
  {
   "cell_type": "markdown",
   "metadata": {},
   "source": [
    "https://wiki.python.org/moin/TimeComplexity gives a solid overview of Python data structures and their time complexity."
   ]
  },
  {
   "cell_type": "markdown",
   "metadata": {},
   "source": [
    "* [`Enum`](https://docs.python.org/3/library/enum.html#module-enum) is used to represent possible actions on the grid."
   ]
  },
  {
   "cell_type": "code",
   "execution_count": 18,
   "metadata": {},
   "outputs": [],
   "source": [
    "class Action(Enum):\n",
    "    \"\"\"\n",
    "    An action is represented by a 3 element tuple.\n",
    "    \n",
    "    The first 2 values are the delta of the action relative\n",
    "    to the current grid position. The third and final value\n",
    "    is the cost of performing the action.\n",
    "    \"\"\"\n",
    "    LEFT = (0, -1, 1)\n",
    "    RIGHT = (0, 1, 1)\n",
    "    UP = (-1, 0, 1)\n",
    "    DOWN = (1, 0, 1)\n",
    "    UP_LEFL = (-1, -1, np.sqrt(2))\n",
    "    UP_RIGHT = (-1, 1, np.sqrt(2))\n",
    "    DOWN_LEFT = (1, -1, np.sqrt(2))\n",
    "    DOWN_RIGHT = (1, 1, np.sqrt(2))\n",
    "    \n",
    "    def __str__(self):\n",
    "        if self == self.LEFT:\n",
    "            return '←'\n",
    "        elif self == self.RIGHT:\n",
    "            return '→'\n",
    "        elif self == self.UP:\n",
    "            return '↑'\n",
    "        elif self == self.DOWN:\n",
    "            return '↓'\n",
    "        elif self == self.UP_LEFL:\n",
    "            return '↖'\n",
    "        elif self == self.UP_RIGHT:\n",
    "            return '↗'\n",
    "        elif self == self.DOWN_LEFT:\n",
    "            return '↙'\n",
    "        elif self == self.DOWN_RIGHT:\n",
    "            return '↘'\n",
    "    \n",
    "    @property\n",
    "    def cost(self):\n",
    "        return self.value[2]\n",
    "    \n",
    "    @property\n",
    "    def delta(self):\n",
    "        return (self.value[0], self.value[1])\n",
    "            \n",
    "    \n",
    "def valid_actions(grid, current_node):\n",
    "    \"\"\"\n",
    "    Returns a list of valid actions given a grid and current node.\n",
    "    \"\"\"\n",
    "    valid = [Action.UP, Action.LEFT, Action.RIGHT, Action.DOWN,\n",
    "             Action.UP_LEFL, Action.UP_RIGHT, Action.DOWN_LEFT, Action.DOWN_RIGHT]\n",
    "    n, m = grid.shape[0] - 1, grid.shape[1] - 1\n",
    "    x, y = current_node\n",
    "    \n",
    "    # check if the node is off the grid or\n",
    "    # it's an obstacle\n",
    "    \n",
    "    if x - 1 < 0 or grid[x-1, y] == 1:\n",
    "        valid.remove(Action.UP)\n",
    "    if x + 1 > n or grid[x+1, y] == 1:\n",
    "        valid.remove(Action.DOWN)\n",
    "    if y - 1 < 0 or grid[x, y-1] == 1:\n",
    "        valid.remove(Action.LEFT)\n",
    "    if y + 1 > m or grid[x, y+1] == 1:\n",
    "        valid.remove(Action.RIGHT)\n",
    "    if x - 1 < 0 or y - 1 < 0 or grid[x-1, y-1] == 1:\n",
    "        valid.remove(Action.UP_LEFL)\n",
    "    if x - 1 < 0 or y + 1 > m or grid[x-1, y+1] == 1:\n",
    "        valid.remove(Action.UP_RIGHT)\n",
    "    if x + 1 > n or y - 1 < 0 or grid[x+1, y-1] == 1:\n",
    "        valid.remove(Action.DOWN_LEFT)\n",
    "    if x + 1 > n or y + 1 > m or grid[x+1, y+1] == 1:\n",
    "        valid.remove(Action.DOWN_RIGHT)\n",
    "        \n",
    "    return valid\n",
    "\n",
    "def visualize_path(grid, path, start):\n",
    "    sgrid = np.zeros(np.shape(grid), dtype=np.str)\n",
    "    sgrid[:] = ' '\n",
    "    sgrid[grid[:] == 1] = 'O'\n",
    "    \n",
    "    pos = start\n",
    "    \n",
    "    for a in path:\n",
    "        da = a.delta\n",
    "        sgrid[pos[0], pos[1]] = str(a)\n",
    "        pos = (pos[0] + da[0], pos[1] + da[1])\n",
    "    sgrid[pos[0], pos[1]] = 'G'\n",
    "    sgrid[start[0], start[1]] = 'S'  \n",
    "    return sgrid"
   ]
  },
  {
   "cell_type": "markdown",
   "metadata": {},
   "source": [
    "### Cost Search\n",
    "\n",
    "In this section you will extend the breadth-first search algorithm by incorporating a cost for each action. Your task is to compute the lowest cost path. Does this change the data structures you should use?\n",
    "\n",
    "You will need to implement the remaining `TODOs`."
   ]
  },
  {
   "cell_type": "code",
   "execution_count": 19,
   "metadata": {},
   "outputs": [],
   "source": [
    "def uniform_cost(grid, start, goal):\n",
    "\n",
    "    # Initialize the starting variables\n",
    "    path = []\n",
    "    queue = Queue()\n",
    "    queue.put((start, 0))\n",
    "    visited = set(start)\n",
    "    \n",
    "    branch = {}\n",
    "    found = False\n",
    "    \n",
    "    while not queue.empty():\n",
    "        # Remove the first element from the queue\n",
    "        current_node, current_cost = queue.get()\n",
    "\n",
    "        # Check if the current vertex corresponds to the goal state\n",
    "        if current_node == goal:        \n",
    "            print('Found a path.')\n",
    "            found = True\n",
    "            break\n",
    "        else:\n",
    "            for action in valid_actions(grid, current_node):\n",
    "                # determine the next_node using the action delta\n",
    "                delta = action.delta\n",
    "                next_node = (current_node[0] + delta[0], current_node[1] + delta[1])\n",
    "                # compute the new cost\n",
    "                new_cost = current_cost + action.cost\n",
    "                \n",
    "                # Check if the new vertex has not been visited before.\n",
    "                # If the node has not been visited you will need to\n",
    "                # 1. Mark it as visited\n",
    "                # 2. Add it to the queue\n",
    "                if next_node not in visited:\n",
    "                    visited.add(next_node)\n",
    "                    queue.put((next_node, new_cost))\n",
    "                    branch[next_node] = (new_cost, current_node, action)\n",
    "             \n",
    "    path = []\n",
    "    path_cost = 0\n",
    "    if found:\n",
    "        \n",
    "        # retrace steps\n",
    "        path = []\n",
    "        n = goal\n",
    "        path_cost = branch[n][0]\n",
    "        while branch[n][1] != start:\n",
    "            path.append(branch[n][2])\n",
    "            n = branch[n][1]\n",
    "        path.append(branch[n][2])\n",
    "            \n",
    "    return path[::-1], path_cost"
   ]
  },
  {
   "cell_type": "markdown",
   "metadata": {},
   "source": [
    "### Executing the search\n",
    "\n",
    "Run `uniform_cost()` and reference the grid to see if the path makes sense."
   ]
  },
  {
   "cell_type": "code",
   "execution_count": 20,
   "metadata": {},
   "outputs": [],
   "source": [
    "start = (0, 0)\n",
    "goal = (4, 4)\n",
    "\n",
    "grid = np.array([\n",
    "    [0, 1, 0, 0, 0, 0],\n",
    "    [0, 1, 0, 1, 0, 0],\n",
    "    [0, 1, 0, 0, 0, 0],\n",
    "    [0, 1, 0, 0, 1, 0],\n",
    "    [0, 0, 0, 1, 0, 0],\n",
    "])"
   ]
  },
  {
   "cell_type": "code",
   "execution_count": 21,
   "metadata": {},
   "outputs": [
    {
     "name": "stdout",
     "output_type": "stream",
     "text": [
      "Found a path.\n",
      "8.242640687119286 [<Action.DOWN: (1, 0, 1)>, <Action.DOWN: (1, 0, 1)>, <Action.DOWN: (1, 0, 1)>, <Action.DOWN_RIGHT: (1, 1, 1.4142135623730951)>, <Action.RIGHT: (0, 1, 1)>, <Action.UP_RIGHT: (-1, 1, 1.4142135623730951)>, <Action.DOWN_RIGHT: (1, 1, 1.4142135623730951)>]\n"
     ]
    }
   ],
   "source": [
    "path, path_cost = uniform_cost(grid, start, goal)\n",
    "print(path_cost, path)"
   ]
  },
  {
   "cell_type": "code",
   "execution_count": 22,
   "metadata": {},
   "outputs": [
    {
     "data": {
      "text/plain": [
       "array([['S', 'O', ' ', ' ', ' ', ' '],\n",
       "       ['↓', 'O', ' ', 'O', ' ', ' '],\n",
       "       ['↓', 'O', ' ', ' ', ' ', ' '],\n",
       "       ['↘', 'O', ' ', '↘', 'O', ' '],\n",
       "       [' ', '→', '↗', 'O', 'G', ' ']], dtype='<U1')"
      ]
     },
     "execution_count": 22,
     "metadata": {},
     "output_type": "execute_result"
    }
   ],
   "source": [
    "# S -> start, G -> goal, O -> obstacle\n",
    "visualize_path(grid, path, start)"
   ]
  },
  {
   "cell_type": "markdown",
   "metadata": {},
   "source": [
    "[Solution](/notebooks/Cost-Solution.ipynb)"
   ]
  }
 ],
 "metadata": {
  "kernelspec": {
   "display_name": "Python [default]",
   "language": "python",
   "name": "python3"
  },
  "language_info": {
   "codemirror_mode": {
    "name": "ipython",
    "version": 3
   },
   "file_extension": ".py",
   "mimetype": "text/x-python",
   "name": "python",
   "nbconvert_exporter": "python",
   "pygments_lexer": "ipython3",
   "version": "3.6.3"
  }
 },
 "nbformat": 4,
 "nbformat_minor": 2
}
