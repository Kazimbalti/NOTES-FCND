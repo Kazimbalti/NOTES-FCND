{
 "cells": [
  {
   "cell_type": "markdown",
   "metadata": {},
   "source": [
    "# 3D Map\n",
    "\n",
    "While representing the configuration space in 3 dimensions isn't entirely practical it's fun (and useful) to visualize things in 3D.\n",
    "\n",
    "In this exercise you'll finish the implementation of `create_grid` such that a 3D grid is returned where cells containing a voxel are set to `True`. We'll then plot the result!"
   ]
  },
  {
   "cell_type": "code",
   "execution_count": 1,
   "metadata": {},
   "outputs": [],
   "source": [
    "import numpy as np\n",
    "import matplotlib.pyplot as plt\n",
    "from mpl_toolkits.mplot3d import Axes3D\n",
    "\n",
    "%matplotlib inline "
   ]
  },
  {
   "cell_type": "code",
   "execution_count": 2,
   "metadata": {},
   "outputs": [],
   "source": [
    "plt.rcParams['figure.figsize'] = 16, 16"
   ]
  },
  {
   "cell_type": "code",
   "execution_count": 3,
   "metadata": {},
   "outputs": [
    {
     "name": "stdout",
     "output_type": "stream",
     "text": [
      "[[-305.  -435.    85.5    5.     5.    85.5]\n",
      " [-295.  -435.    85.5    5.     5.    85.5]\n",
      " [-285.  -435.    85.5    5.     5.    85.5]\n",
      " ...\n",
      " [ 435.   465.     8.     5.     5.     8. ]\n",
      " [ 445.   465.     8.     5.     5.     8. ]\n",
      " [ 455.   465.     8.     5.     5.     8. ]]\n"
     ]
    }
   ],
   "source": [
    "# This is the same obstacle data from the previous lesson.\n",
    "filename = 'colliders.csv'\n",
    "data = np.loadtxt(filename, delimiter=',', dtype='Float64', skiprows=2)\n",
    "print(data)"
   ]
  },
  {
   "cell_type": "code",
   "execution_count": 4,
   "metadata": {},
   "outputs": [],
   "source": [
    "def create_voxmap(data, voxel_size=5):\n",
    "    \"\"\"\n",
    "    Returns a grid representation of a 3D configuration space\n",
    "    based on given obstacle data.\n",
    "    \n",
    "    The `voxel_size` argument sets the resolution of the voxel map. \n",
    "    \"\"\"\n",
    "\n",
    "    # minimum and maximum north coordinates\n",
    "    north_min = np.floor(np.amin(data[:, 0] - data[:, 3]))\n",
    "    north_max = np.ceil(np.amax(data[:, 0] + data[:, 3]))\n",
    "\n",
    "    # minimum and maximum east coordinates\n",
    "    east_min = np.floor(np.amin(data[:, 1] - data[:, 4]))\n",
    "    east_max = np.ceil(np.amax(data[:, 1] + data[:, 4]))\n",
    "\n",
    "    alt_max = np.ceil(np.amax(data[:, 2] + data[:, 5]))\n",
    "    \n",
    "    # given the minimum and maximum coordinates we can\n",
    "    # calculate the size of the grid.\n",
    "    north_size = int(np.ceil((north_max - north_min))) // voxel_size\n",
    "    east_size = int(np.ceil((east_max - east_min))) // voxel_size\n",
    "    alt_size = int(alt_max) // voxel_size\n",
    "\n",
    "    voxmap = np.zeros((north_size, east_size, alt_size), dtype=np.bool)\n",
    "\n",
    "    for datum in data:\n",
    "        x, y, z, dx, dy, dz = datum.astype(np.int32)\n",
    "        obstacle = np.array(((x-dx, x+dx),\n",
    "                            (y-dy, y+dy),\n",
    "                            (z-dz, z+dz)))\n",
    "        obstacle[0] = (obstacle[0] - north_min) // voxel_size\n",
    "        obstacle[1] = (obstacle[1] - east_min)  // voxel_size\n",
    "        obstacle[2] = obstacle[2] // voxel_size \n",
    "        voxmap[obstacle[0][0]:obstacle[0][1], obstacle[1][0]:obstacle[1][1], obstacle[2][0]:obstacle[2][1]] = True\n",
    "        \n",
    "    return voxmap"
   ]
  },
  {
   "cell_type": "markdown",
   "metadata": {},
   "source": [
    "Create 3D grid."
   ]
  },
  {
   "cell_type": "code",
   "execution_count": 9,
   "metadata": {},
   "outputs": [
    {
     "name": "stdout",
     "output_type": "stream",
     "text": [
      "(81, 91, 21)\n"
     ]
    }
   ],
   "source": [
    "voxel_size = 10\n",
    "voxmap = create_voxmap(data, voxel_size)\n",
    "print(voxmap.shape)"
   ]
  },
  {
   "cell_type": "markdown",
   "metadata": {},
   "source": [
    "Plot the 3D grid. "
   ]
  },
  {
   "cell_type": "code",
   "execution_count": null,
   "metadata": {},
   "outputs": [],
   "source": [
    "fig = plt.figure()\n",
    "ax = fig.gca(projection='3d')\n",
    "ax.voxels(voxmap, edgecolor='k')\n",
    "ax.set_xlim(voxmap.shape[0], 0)\n",
    "ax.set_ylim(0, voxmap.shape[1])\n",
    "# add 100 to the height so the buildings aren't so tall\n",
    "ax.set_zlim(0, voxmap.shape[2]+100//voxel_size)\n",
    "\n",
    "plt.xlabel('North')\n",
    "plt.ylabel('East')\n",
    "\n",
    "plt.show()"
   ]
  },
  {
   "cell_type": "markdown",
   "metadata": {},
   "source": [
    "Isn't the city pretty?"
   ]
  },
  {
   "cell_type": "markdown",
   "metadata": {},
   "source": [
    "[solution](/notebooks/Voxel-Map-Solution.ipynb)"
   ]
  }
 ],
 "metadata": {
  "kernelspec": {
   "display_name": "Python 3",
   "language": "python",
   "name": "python3"
  },
  "language_info": {
   "codemirror_mode": {
    "name": "ipython",
    "version": 3
   },
   "file_extension": ".py",
   "mimetype": "text/x-python",
   "name": "python",
   "nbconvert_exporter": "python",
   "pygments_lexer": "ipython3",
   "version": "3.6.3"
  }
 },
 "nbformat": 4,
 "nbformat_minor": 2
}
